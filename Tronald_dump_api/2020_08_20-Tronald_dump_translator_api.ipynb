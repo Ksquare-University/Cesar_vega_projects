{
 "cells": [
  {
   "cell_type": "code",
   "execution_count": 126,
   "metadata": {},
   "outputs": [],
   "source": [
    "import pandas as pd\n",
    "#https://pypi.org/project/tronald-dumpy/\n",
    "from tronalddump import api, parse\n",
    "import urllib, json"
   ]
  },
  {
   "cell_type": "code",
   "execution_count": 127,
   "metadata": {},
   "outputs": [],
   "source": [
    "client = api.TronaldDumpAPI()"
   ]
  },
  {
   "cell_type": "code",
   "execution_count": 128,
   "metadata": {},
   "outputs": [],
   "source": [
    "resp = client.random_quote()"
   ]
  },
  {
   "cell_type": "code",
   "execution_count": 131,
   "metadata": {},
   "outputs": [
    {
     "data": {
      "text/plain": [
       "{'appeared_at': '2015-12-23T14:20:57.000Z',\n",
       " 'created_at': '2019-12-13T16:58:26.552Z',\n",
       " 'quote_id': 'XD6isBqsTgGihlHvIMzx4A',\n",
       " 'tags': ['Hillary Clinton'],\n",
       " 'updated_at': '2019-12-13T17:26:27.045Z',\n",
       " 'value': 'The Hillary Clinton staged event yesterday was pathetic. Be careful Hillary as you play the war on women or women being degraded card.',\n",
       " '_embedded': {'author': [{'author_id': 'wVE8Y7BoRKCBkxs1JkqAvw',\n",
       "    'bio': None,\n",
       "    'created_at': '2019-12-13T16:43:24.728Z',\n",
       "    'name': 'Donald Trump',\n",
       "    'slug': 'donald-trump',\n",
       "    'updated_at': '2019-12-13T16:43:24.728Z',\n",
       "    '_links': {'self': {'href': 'http://www.tronalddump.io/author/wVE8Y7BoRKCBkxs1JkqAvw'}}}],\n",
       "  'source': [{'created_at': '2019-12-13T16:52:57.586Z',\n",
       "    'filename': None,\n",
       "    'quote_source_id': 'BJFHWCyyTaq0PjiK8mNlXw',\n",
       "    'remarks': None,\n",
       "    'updated_at': '2019-12-13T16:52:57.586Z',\n",
       "    'url': 'https://twitter.com/realDonaldTrump/status/679668017505144833',\n",
       "    '_links': {'self': {'href': 'http://www.tronalddump.io/quote-source/BJFHWCyyTaq0PjiK8mNlXw'}}}]},\n",
       " '_links': {'self': {'href': 'http://www.tronalddump.io/quote/XD6isBqsTgGihlHvIMzx4A'}}}"
      ]
     },
     "execution_count": 131,
     "metadata": {},
     "output_type": "execute_result"
    }
   ],
   "source": [
    "resp.data"
   ]
  },
  {
   "cell_type": "code",
   "execution_count": 129,
   "metadata": {
    "scrolled": true
   },
   "outputs": [
    {
     "name": "stdout",
     "output_type": "stream",
     "text": [
      "['Hillary Clinton']\n",
      "The Hillary Clinton staged event yesterday was pathetic. Be careful Hillary as you play the war on women or women being degraded card.\n"
     ]
    }
   ],
   "source": [
    "print(resp.data['tags'])\n",
    "trump_quote = resp.data['value']\n",
    "print(trump_quote)"
   ]
  },
  {
   "cell_type": "code",
   "execution_count": 132,
   "metadata": {},
   "outputs": [],
   "source": [
    "#Use encode to change everything to ASCII\n",
    "trump_quote_to_url = trump_quote.replace(\".\",\"\") \n",
    "trump_quote_to_url = trump_quote_to_url.replace(\"''\",\"\")\n",
    "trump_quote_to_url = trump_quote_to_url.replace(\" \",\"%20\")\n",
    "trump_quote_to_url = trump_quote_to_url.replace(\"&\",\"and\")\n",
    "text_to_pirate = \"https://api.funtranslations.com/translate/pirate.json?text={}\".format(trump_quote_to_url)\n",
    "text_to_minion = \"https://api.funtranslations.com/translate/minion.json?text={}\".format(trump_quote_to_url)\n",
    "text_to_shakespeare = \"https://api.funtranslations.com/translate/shakespeare.json?text={}\".format(trump_quote_to_url)\n",
    "text_to_sith = \"https://api.funtranslations.com/translate/sith.json?text={}\".format(trump_quote_to_url)\n",
    "text_to_piglatin = \"https://api.funtranslations.com/translate/piglatin.json?text={}\".format(trump_quote_to_url)\n",
    "text_to_fudd = \"https://api.funtranslations.com/translate/fudd.json?text={}\".format(trump_quote_to_url)\n",
    "text_to_yoda = \"https://api.funtranslations.com/translate/yoda.json?text={}\".format(trump_quote_to_url)"
   ]
  },
  {
   "cell_type": "code",
   "execution_count": 136,
   "metadata": {},
   "outputs": [],
   "source": [
    "translation_json = pd.read_json(text_to_yoda)"
   ]
  },
  {
   "cell_type": "code",
   "execution_count": 137,
   "metadata": {},
   "outputs": [
    {
     "name": "stdout",
     "output_type": "stream",
     "text": [
      "Event yesterday was pathetic be careful hillary as you play the war on women or women being degraded card,  the hillary clinton staged\n"
     ]
    }
   ],
   "source": [
    "Translation_speak = translation_json[\"contents\"][1]\n",
    "print(Translation_speak)"
   ]
  },
  {
   "cell_type": "code",
   "execution_count": null,
   "metadata": {},
   "outputs": [],
   "source": []
  }
 ],
 "metadata": {
  "kernelspec": {
   "display_name": "Python 3",
   "language": "python",
   "name": "python3"
  },
  "language_info": {
   "codemirror_mode": {
    "name": "ipython",
    "version": 3
   },
   "file_extension": ".py",
   "mimetype": "text/x-python",
   "name": "python",
   "nbconvert_exporter": "python",
   "pygments_lexer": "ipython3",
   "version": "3.8.0"
  }
 },
 "nbformat": 4,
 "nbformat_minor": 4
}
